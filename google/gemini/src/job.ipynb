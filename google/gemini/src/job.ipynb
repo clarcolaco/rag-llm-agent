{
 "cells": [
  {
   "cell_type": "code",
   "execution_count": null,
   "id": "bb086627",
   "metadata": {},
   "outputs": [],
   "source": [
    "# Instalar as bibliotecas necessárias\n",
    "%pip install langchain-google-genai\n",
    "%pip install langchain\n",
    "%pip install pypdf\n",
    "%pip install faiss-cpu\n",
    "%pip install sentence-transformers"
   ]
  },
  {
   "cell_type": "code",
   "execution_count": null,
   "id": "07c934c3",
   "metadata": {},
   "outputs": [],
   "source": [
    "%pip install langchain_community"
   ]
  },
  {
   "cell_type": "code",
   "execution_count": null,
   "id": "6b9c4adb",
   "metadata": {},
   "outputs": [],
   "source": [
    "from env import MY_KEY"
   ]
  },
  {
   "cell_type": "code",
   "execution_count": null,
   "id": "8509323e",
   "metadata": {},
   "outputs": [],
   "source": [
    "from langchain_community.document_loaders import PyPDFLoader\n",
    "from langchain.text_splitter import RecursiveCharacterTextSplitter\n",
    "\n",
    "\n",
    "loader = PyPDFLoader(\"meu-pdf.pdf\")\n",
    "docs = loader.load()\n",
    "\n",
    "# Dividir o texto em pedaços menores (chunks)\n",
    "text_splitter = RecursiveCharacterTextSplitter(chunk_size=1000, chunk_overlap=200)\n",
    "chunks = text_splitter.split_documents(docs)"
   ]
  },
  {
   "cell_type": "code",
   "execution_count": null,
   "id": "e77c520f",
   "metadata": {},
   "outputs": [],
   "source": [
    "from langchain_google_genai import GoogleGenerativeAIEmbeddings\n",
    "from langchain_community.vectorstores import FAISS\n",
    "\n",
    "# Configurar a chave de API do Gemini\n",
    "import os\n",
    "import os\n",
    "from dotenv import load_dotenv\n",
    "\n",
    "# Carrega as variáveis de ambiente do arquivo .env\n",
    "load_dotenv()\n",
    "\n",
    "# Agora a chave está disponível\n",
    "\n",
    "if MY_KEY:\n",
    "    os.environ['GOOGLE_API_KEY'] = MY_KEY\n",
    "    print(\"Chave de API carregada com sucesso.\")\n",
    "else:\n",
    "    print(\"A chave de API não foi encontrada no arquivo .env.\")\n",
    "\n"
   ]
  },
  {
   "cell_type": "code",
   "execution_count": null,
   "id": "25e0c3d6",
   "metadata": {},
   "outputs": [],
   "source": [
    "# Criar embeddings (vetores) para os chunks\n",
    "embeddings = GoogleGenerativeAIEmbeddings(model=\"models/embedding-001\")\n",
    "vector_store = FAISS.from_documents(chunks, embeddings)"
   ]
  },
  {
   "cell_type": "code",
   "execution_count": null,
   "id": "1c9fdf4f",
   "metadata": {},
   "outputs": [],
   "source": [
    "from langchain_google_genai import ChatGoogleGenerativeAI\n",
    "from langchain.chains import RetrievalQA\n",
    "\n",
    "\n",
    "llm = ChatGoogleGenerativeAI(model=\"gemini-1.5-flash\")\n",
    "\n",
    "\n",
    "qa_chain = RetrievalQA.from_chain_type(\n",
    "    llm=llm,\n",
    "    chain_type=\"stuff\",\n",
    "    retriever=vector_store.as_retriever()\n",
    ")"
   ]
  },
  {
   "cell_type": "code",
   "execution_count": null,
   "id": "4645926a",
   "metadata": {},
   "outputs": [],
   "source": [
    "\n",
    "pergunta = \"O que é um hobbit? Como aparece no texto?\"\n",
    "resposta = qa_chain.run(pergunta)\n",
    "\n",
    "print(resposta)"
   ]
  }
 ],
 "metadata": {
  "kernelspec": {
   "display_name": "ipynb",
   "language": "python",
   "name": "python3"
  },
  "language_info": {
   "codemirror_mode": {
    "name": "ipython",
    "version": 3
   },
   "file_extension": ".py",
   "mimetype": "text/x-python",
   "name": "python",
   "nbconvert_exporter": "python",
   "pygments_lexer": "ipython3",
   "version": "3.11.12"
  }
 },
 "nbformat": 4,
 "nbformat_minor": 5
}
